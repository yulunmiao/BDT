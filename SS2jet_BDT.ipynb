{
 "cells": [
  {
   "cell_type": "code",
   "execution_count": 2,
   "metadata": {},
   "outputs": [
    {
     "name": "stdout",
     "output_type": "stream",
     "text": [
      "[[ 68.90540314  57.62403107   2.         ... 102.97488403 574.875\n",
      "  804.37927246]\n",
      " [325.68054199  54.40904617   4.         ...  82.44493103 350.25\n",
      "  812.7845459 ]\n",
      " [126.7311554   39.08652496   4.         ... 117.80744934 318.53125\n",
      "  602.15637207]\n",
      " ...\n",
      " [ 89.26124573  34.73737717   2.         ...  47.84227753 380.15625\n",
      "  551.99713135]\n",
      " [184.00798035  35.66375351   4.         ...  85.65441132 356.125\n",
      "  661.45117188]\n",
      " [ 87.34474182  58.05164719   2.         ... 116.96775055 208.75\n",
      "  471.11413574]]\n"
     ]
    },
    {
     "data": {
      "text/plain": [
       "348"
      ]
     },
     "execution_count": 2,
     "metadata": {},
     "output_type": "execute_result"
    }
   ],
   "source": [
    "import uproot\n",
    "import xgboost as xgb\n",
    "import pandas as pd\n",
    "import numpy as np\n",
    "from matplotlib import pyplot as plt\n",
    "\n",
    "www_file = uproot.open('./WWW.root')\n",
    "www_branches = www_file['t'].arrays()\n",
    "www_features = []\n",
    "for key in www_file['t'].keys():\n",
    "    www_features.append(www_branches[key])\n",
    "signal = np.transpose(np.array(www_features))\n",
    "print(signal)\n",
    "len(signal)"
   ]
  },
  {
   "cell_type": "code",
   "execution_count": 3,
   "metadata": {},
   "outputs": [
    {
     "name": "stdout",
     "output_type": "stream",
     "text": [
      "[[197.86581421  32.49233246   2.         ...  24.78462219 259.53125\n",
      "  514.67401123]\n",
      " [282.14923096  57.1822319    4.         ...  18.00586319 298.40625\n",
      "  655.74353027]\n",
      " [119.65211487  43.11584091   1.         ...  84.4717865  301.6875\n",
      "  548.92724609]\n",
      " ...\n",
      " [ 29.80377769  28.99771881   4.         ... 111.25218201 457.859375\n",
      "  627.91308594]\n",
      " [140.12463379  42.25994873   3.         ...  32.42145538 383.40625\n",
      "  598.21228027]\n",
      " [ 65.7537384   33.10772705   1.         ... 262.2585144  288.625\n",
      "  649.74499512]]\n"
     ]
    },
    {
     "data": {
      "text/plain": [
       "11053"
      ]
     },
     "execution_count": 3,
     "metadata": {},
     "output_type": "execute_result"
    }
   ],
   "source": [
    "wz_file = uproot.open('./WZ.root')\n",
    "wz_branches = wz_file['t'].arrays()\n",
    "wz_features = []\n",
    "for key in wz_file['t'].keys():\n",
    "    wz_features.append(wz_branches[key])\n",
    "background = np.transpose(np.array(wz_features))\n",
    "print(background)\n",
    "len(background)"
   ]
  },
  {
   "cell_type": "code",
   "execution_count": 4,
   "metadata": {},
   "outputs": [
    {
     "data": {
      "image/png": "[encoded data removed]",
      "text/plain": [
       "<Figure size 432x288 with 1 Axes>"
      ]
     },
     "metadata": {
      "needs_background": "light"
     },
     "output_type": "display_data"
    },
    {
     "data": {
      "image/png": "[encoded data removed]",
      "text/plain": [
       "<Figure size 432x288 with 1 Axes>"
      ]
     },
     "metadata": {
      "needs_background": "light"
     },
     "output_type": "display_data"
    },
    {
     "data": {
      "image/png": "[encoded data removed]",
      "text/plain": [
       "<Figure size 432x288 with 1 Axes>"
      ]
     },
     "metadata": {
      "needs_background": "light"
     },
     "output_type": "display_data"
    },
    {
     "data": {
      "image/png": "[encoded data removed]",
      "text/plain": [
       "<Figure size 432x288 with 1 Axes>"
      ]
     },
     "metadata": {
      "needs_background": "light"
     },
     "output_type": "display_data"
    }
   ],
   "source": [
    "signal_train,signal_test = np.array_split(np.array(signal),2)\n",
    "background_train,background_test = np.array_split(np.array(background),2)\n",
    "\n",
    "train_x=np.concatenate((signal_train,background_train))\n",
    "train_y=np.concatenate((np.ones(len(signal_train)),np.zeros(len(background_train))))\n",
    "\n",
    "\n",
    "scale_pos_weight=(len(train_y)-np.sum(train_y))/np.sum(train_y)\n",
    "\n",
    "model = xgb.XGBClassifier(\n",
    "    scale_pos_weight=scale_pos_weight,\n",
    "    max_depth=2, \n",
    "    )\n",
    "model.fit(train_x,train_y)\n",
    "\n",
    "bdt_score=[]\n",
    "for num in model.predict_proba(signal_train):\n",
    "    bdt_score.append(num[1])                \n",
    "plt.hist(bdt_score,20)\n",
    "plt.show()\n",
    "\n",
    "bdt_score=[]\n",
    "for num in model.predict_proba(background_train):\n",
    "    bdt_score.append(num[1])                \n",
    "plt.hist(bdt_score,20)\n",
    "plt.show()\n",
    "\n",
    "bdt_score=[]\n",
    "for num in model.predict_proba(signal_test):\n",
    "    bdt_score.append(num[1])                \n",
    "plt.hist(bdt_score,20)\n",
    "plt.show()\n",
    "\n",
    "bdt_score=[]\n",
    "for num in model.predict_proba(background_test):\n",
    "    bdt_score.append(num[1])                \n",
    "plt.hist(bdt_score,20)\n",
    "plt.show()"
   ]
  },
  {
   "cell_type": "code",
   "execution_count": 54,
   "metadata": {},
   "outputs": [
    {
     "data": {
      "text/plain": [
       "(array([2737., 1137.,  635.,  349.,  257.,  180.,   95.,   78.,   38.,\n",
       "          20.]),\n",
       " array([3.6662117e-05, 9.6319430e-02, 1.9260220e-01, 2.8888497e-01,\n",
       "        3.8516775e-01, 4.8145050e-01, 5.7773328e-01, 6.7401606e-01,\n",
       "        7.7029878e-01, 8.6658156e-01, 9.6286434e-01], dtype=float32),\n",
       " <a list of 10 Patch objects>)"
      ]
     },
     "execution_count": 54,
     "metadata": {},
     "output_type": "execute_result"
    },
    {
     "data": {
      "image/png": "[encoded data removed]",
      "text/plain": [
       "<Figure size 432x288 with 1 Axes>"
      ]
     },
     "metadata": {
      "needs_background": "light"
     },
     "output_type": "display_data"
    }
   ],
   "source": []
  },
  {
   "cell_type": "code",
   "execution_count": 55,
   "metadata": {},
   "outputs": [
    {
     "data": {
      "text/plain": [
       "(array([60., 32., 16., 17., 14., 11., 10.,  7.,  2.,  5.]),\n",
       " array([0.00099663, 0.08513189, 0.16926715, 0.2534024 , 0.33753768,\n",
       "        0.42167294, 0.5058082 , 0.58994347, 0.6740787 , 0.758214  ,\n",
       "        0.84234923], dtype=float32),\n",
       " <a list of 10 Patch objects>)"
      ]
     },
     "execution_count": 55,
     "metadata": {},
     "output_type": "execute_result"
    },
    {
     "data": {
      "image/png": "[encoded data removed]",
      "text/plain": [
       "<Figure size 432x288 with 1 Axes>"
      ]
     },
     "metadata": {
      "needs_background": "light"
     },
     "output_type": "display_data"
    }
   ],
   "source": []
  },
  {
   "cell_type": "code",
   "execution_count": null,
   "metadata": {},
   "outputs": [],
   "source": []
  }
 ],
 "metadata": {
  "kernelspec": {
   "display_name": "Python 3",
   "language": "python",
   "name": "python3"
  },
  "language_info": {
   "codemirror_mode": {
    "name": "ipython",
    "version": 3
   },
   "file_extension": ".py",
   "mimetype": "text/x-python",
   "name": "python",
   "nbconvert_exporter": "python",
   "pygments_lexer": "ipython3",
   "version": "3.7.3"
  }
 },
 "nbformat": 4,
 "nbformat_minor": 2
}
